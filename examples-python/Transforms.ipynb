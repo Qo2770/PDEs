{
 "cells": [
  {
   "cell_type": "markdown",
   "id": "8edb0b7b-cb8c-496e-82c7-f7c4d474ec05",
   "metadata": {},
   "source": [
    "# Imports"
   ]
  },
  {
   "cell_type": "code",
   "execution_count": 1,
   "id": "c6ec6fa2-b727-4243-b373-c5306ec1f1d8",
   "metadata": {},
   "outputs": [],
   "source": [
    "import numpy as np\n",
    "from scipy.fft import *"
   ]
  },
  {
   "cell_type": "code",
   "execution_count": 2,
   "id": "364560ff-8748-4ab6-803f-fdd6495e0bac",
   "metadata": {},
   "outputs": [],
   "source": [
    "np.set_printoptions(edgeitems=30, linewidth=100000, \n",
    "    formatter=dict(float=lambda x: \"%.3g\" % x))"
   ]
  },
  {
   "cell_type": "markdown",
   "id": "babe5a3c-bdef-4120-8ec2-91e62002eac9",
   "metadata": {},
   "source": [
    "## Setup inputs"
   ]
  },
  {
   "cell_type": "code",
   "execution_count": 282,
   "id": "18c4ca35-baec-4acf-bcb0-ef56a3c59c4b",
   "metadata": {},
   "outputs": [
    {
     "data": {
      "text/plain": [
       "array([[ 1,  2,  3,  4],\n",
       "       [ 5,  6,  7,  8],\n",
       "       [ 9, 10, 11, 12],\n",
       "       [13, 14, 15, 16]])"
      ]
     },
     "execution_count": 282,
     "metadata": {},
     "output_type": "execute_result"
    }
   ],
   "source": [
    "N = 4\n",
    "\n",
    "f_base = np.arange(N)+1\n",
    "f_grid = np.arange(N**2).reshape(N, N)+1\n",
    "\n",
    "f_grid"
   ]
  },
  {
   "cell_type": "markdown",
   "id": "aba51964-5e88-4406-8678-da2394a7d231",
   "metadata": {},
   "source": [
    "# Transforms"
   ]
  },
  {
   "cell_type": "markdown",
   "id": "72e4e95a-9653-418f-b174-db63309200e8",
   "metadata": {},
   "source": [
    "## 1. DCTs"
   ]
  },
  {
   "cell_type": "markdown",
   "id": "81f43da4-090b-41d0-933b-7b6afc6d1711",
   "metadata": {},
   "source": [
    "### 1.1. DCT Type I"
   ]
  },
  {
   "cell_type": "code",
   "execution_count": 4,
   "id": "e391a79f-d1f0-4e64-9390-8d88c3829484",
   "metadata": {},
   "outputs": [],
   "source": [
    "f_base_dct1_1d = dct(f_base, 1, norm=\"ortho\", orthogonalize=False)\n",
    "\n",
    "f_ext_dct1_1d = np.concatenate((f_base, f_base[-2:0:-1]))\n",
    "res_dct1_1d = (rfft(f_ext_dct1_1d) * 0.5 * np.sqrt(2/(N-1))).real"
   ]
  },
  {
   "cell_type": "code",
   "execution_count": 5,
   "id": "04cef713-76c8-4442-9487-c5788ced13e3",
   "metadata": {},
   "outputs": [
    {
     "name": "stdout",
     "output_type": "stream",
     "text": [
      "Error:  0.0\n"
     ]
    },
    {
     "data": {
      "text/plain": [
       "(array([6.12, -1.63, -9.06e-17, -0.408]),\n",
       " array([6.12, -1.63, -9.06e-17, -0.408]))"
      ]
     },
     "execution_count": 5,
     "metadata": {},
     "output_type": "execute_result"
    }
   ],
   "source": [
    "print(\"Error: \", np.sum(np.abs(f_base_dct1_1d-res_dct1_1d)))\n",
    "f_base_dct1_1d, res_dct1_1d"
   ]
  },
  {
   "cell_type": "code",
   "execution_count": 6,
   "id": "9c658d04-a2e5-449c-a63b-3f716e2c6d54",
   "metadata": {},
   "outputs": [],
   "source": [
    "f_base_dct1_2d = dctn(f_grid, 1, norm=\"ortho\", orthogonalize=False)\n",
    "\n",
    "f_ext_dct1_1d = np.zeros((2*N-2, 2*N-2), dtype=np.float64)\n",
    "f_ext_dct1_1d[:N, :N] = f_grid\n",
    "f_ext_dct1_1d[N:, :N] = f_grid[-2:0:-1, :]\n",
    "f_ext_dct1_1d[:N, N:] = f_grid[:, -2:0:-1]\n",
    "f_ext_dct1_1d[N:, N:] = f_grid[-2:0:-1, -2:0:-1]\n",
    "\n",
    "res_dct1_2d = (rfft2(f_ext_dct1_1d) * 0.25 * 2/(N-1))[:N, :N].real"
   ]
  },
  {
   "cell_type": "code",
   "execution_count": 7,
   "id": "8b658fd6-c2c4-4f0d-925f-607ddc7d9bc2",
   "metadata": {},
   "outputs": [
    {
     "name": "stdout",
     "output_type": "stream",
     "text": [
      "Error:  8.881784197001252e-16\n"
     ]
    },
    {
     "data": {
      "text/plain": [
       "(array([[51, -4, -2.22e-16, -1],\n",
       "        [-16, 0, 0, 0],\n",
       "        [-8.88e-16, 0, 0, 0],\n",
       "        [-4, 0, 0, 0]]),\n",
       " array([[51, -4, -2.22e-16, -1],\n",
       "        [-16, 0, 0, 0],\n",
       "        [0, 0, 0, 0],\n",
       "        [-4, 0, 0, 0]]))"
      ]
     },
     "execution_count": 7,
     "metadata": {},
     "output_type": "execute_result"
    }
   ],
   "source": [
    "print(\"Error: \", np.sum(np.abs(f_base_dct1_2d-res_dct1_2d)))\n",
    "f_base_dct1_2d, res_dct1_2d"
   ]
  },
  {
   "cell_type": "markdown",
   "id": "e9975d63-f064-4b84-9c72-cdc6b63425e7",
   "metadata": {},
   "source": [
    "### 1.2. DCT Type II"
   ]
  },
  {
   "cell_type": "code",
   "execution_count": 8,
   "id": "017c69c4-5220-45a6-9d15-7d73469d0286",
   "metadata": {},
   "outputs": [],
   "source": [
    "f_base_dct2_1d = dct(f_base, 2, norm=\"ortho\", orthogonalize=False)\n",
    "\n",
    "f_ext_dct2_1d = np.zeros(4*N)\n",
    "f_ext_dct2_1d[1:2*N:2] = f_base\n",
    "f_ext_dct2_1d[2*N+1:4*N:2] = f_base[::-1]\n",
    "\n",
    "res_dct2_1d = (rfft(f_ext_dct2_1d) * np.sqrt(2/N) * 0.5)[:N].real"
   ]
  },
  {
   "cell_type": "code",
   "execution_count": 9,
   "id": "2498fcc7-896f-48f4-ad5d-51141744689f",
   "metadata": {},
   "outputs": [
    {
     "name": "stdout",
     "output_type": "stream",
     "text": [
      "Error:  6.106226635438361e-16\n"
     ]
    },
    {
     "data": {
      "text/plain": [
       "(array([7.07, -2.23, 0, -0.159]), array([7.07, -2.23, 0, -0.159]))"
      ]
     },
     "execution_count": 9,
     "metadata": {},
     "output_type": "execute_result"
    }
   ],
   "source": [
    "print(\"Error: \", np.sum(np.abs(f_base_dct2_1d-res_dct2_1d)))\n",
    "f_base_dct2_1d, res_dct2_1d"
   ]
  },
  {
   "cell_type": "code",
   "execution_count": 10,
   "id": "1a98b7ea-c966-4696-b115-56cd67728cb5",
   "metadata": {},
   "outputs": [],
   "source": [
    "f_base_dct2_2d = dctn(f_grid, 2, norm=\"ortho\", orthogonalize=False)\n",
    "\n",
    "f_ext_dct2_2d = np.zeros((4*N, 4*N))\n",
    "f_ext_dct2_2d[1:2*N:2, 1:2*N:2] = f_grid\n",
    "f_ext_dct2_2d[2*N+1:4*N:2, 1:2*N:2] = f_grid[::-1, :]\n",
    "f_ext_dct2_2d[1:2*N:2, 2*N+1:4*N:2] = f_grid[:, ::-1]\n",
    "f_ext_dct2_2d[2*N+1:4*N:2, 2*N+1:4*N:2] = f_grid[::-1, ::-1]\n",
    "\n",
    "res_dct2_2d = (rfft2(f_ext_dct2_2d) * (2/N) * 0.25)[:N, :N].real"
   ]
  },
  {
   "cell_type": "code",
   "execution_count": 11,
   "id": "2d7f876e-c28f-42d6-a530-2dd4327fe26e",
   "metadata": {},
   "outputs": [
    {
     "name": "stdout",
     "output_type": "stream",
     "text": [
      "Error:  1.1102230246251565e-15\n"
     ]
    },
    {
     "data": {
      "text/plain": [
       "(array([[68, -6.31, 0, -0.448],\n",
       "        [-25.2, 0, 0, 0],\n",
       "        [0, 0, 0, 0],\n",
       "        [-1.79, 0, 0, 0]]),\n",
       " array([[68, -6.31, 0, -0.448],\n",
       "        [-25.2, 0, 0, 0],\n",
       "        [0, 0, 0, 0],\n",
       "        [-1.79, 0, 0, 0]]))"
      ]
     },
     "execution_count": 11,
     "metadata": {},
     "output_type": "execute_result"
    }
   ],
   "source": [
    "print(\"Error: \", np.sum(np.abs(f_base_dct2_2d-res_dct2_2d)))\n",
    "f_base_dct2_2d, res_dct2_2d"
   ]
  },
  {
   "cell_type": "markdown",
   "id": "c37caba0-1ac3-4852-9720-e048403fe3a2",
   "metadata": {},
   "source": [
    "### 1.3. DCT Type III"
   ]
  },
  {
   "cell_type": "code",
   "execution_count": 39,
   "id": "ac055811-cb70-4d24-a04d-349dc1e208c5",
   "metadata": {},
   "outputs": [],
   "source": [
    "f_base_dct3_1d = dct(f_base, 3, norm=\"ortho\", orthogonalize=False)\n",
    "\n",
    "f_ext_dct3_1d = f_base * 2.0 * np.sqrt(N/2) * np.exp((np.arange(N) * np.pi * 0.5 / N)*1j)\n",
    "\n",
    "res_dct3_1d = irfft(f_ext_dct3_1d, n=2*N)[:N].real"
   ]
  },
  {
   "cell_type": "code",
   "execution_count": 40,
   "id": "200fbef5-85a8-4349-ac96-da632ee5a931",
   "metadata": {},
   "outputs": [
    {
     "name": "stdout",
     "output_type": "stream",
     "text": [
      "Error:  2.1094237467877974e-15\n"
     ]
    },
    {
     "data": {
      "text/plain": [
       "(array([4.24, -3.22, 0.925, -0.535]), array([4.24, -3.22, 0.925, -0.535]))"
      ]
     },
     "execution_count": 40,
     "metadata": {},
     "output_type": "execute_result"
    }
   ],
   "source": [
    "print(\"Error: \", np.sum(np.abs(f_base_dct3_1d-res_dct3_1d)))\n",
    "f_base_dct3_1d, res_dct3_1d"
   ]
  },
  {
   "cell_type": "code",
   "execution_count": 75,
   "id": "44901772-ee1b-40a5-a57b-565fa15ab307",
   "metadata": {},
   "outputs": [],
   "source": [
    "f_base_dct3_2d = dctn(f_grid, 3, norm=\"ortho\", orthogonalize=False)\n",
    "\n",
    "def dct3_1d(inp):\n",
    "\n",
    "    temp = inp * 2.0 * np.sqrt(N/2) * np.exp((np.arange(N) * np.pi * 0.5 / N)*1j)\n",
    "    return irfft(temp, n=2*N)[:N].real\n",
    "\n",
    "f_ext_dct3_2d = np.apply_along_axis(dct3_1d, 0, f_grid)\n",
    "res_dct3_2d = np.apply_along_axis(dct3_1d, 1, f_ext_dct3_2d)"
   ]
  },
  {
   "cell_type": "code",
   "execution_count": 76,
   "id": "ae568d46-36ba-4f3a-ad21-d7c3e9ec6faf",
   "metadata": {},
   "outputs": [
    {
     "name": "stdout",
     "output_type": "stream",
     "text": [
      "Error:  4.374278717023117e-14\n"
     ]
    },
    {
     "data": {
      "text/plain": [
       "(array([[25.1, -10.9, 3.97, -1.65],\n",
       "        [-21.4, 7.39, -3.03, 1.04],\n",
       "        [5.9, -2.22, 0.87, -0.32],\n",
       "        [-3.6, 1.21, -0.505, 0.168]]),\n",
       " array([[25.1, -10.9, 3.97, -1.65],\n",
       "        [-21.4, 7.39, -3.03, 1.04],\n",
       "        [5.9, -2.22, 0.87, -0.32],\n",
       "        [-3.6, 1.21, -0.505, 0.168]]))"
      ]
     },
     "execution_count": 76,
     "metadata": {},
     "output_type": "execute_result"
    }
   ],
   "source": [
    "print(\"Error: \", np.sum(np.abs(f_base_dct3_2d-res_dct3_2d)))\n",
    "f_base_dct3_2d, res_dct3_2d"
   ]
  },
  {
   "cell_type": "markdown",
   "id": "165ab88b-4c6d-4078-95c1-a8e6d276e3ad",
   "metadata": {},
   "source": [
    "## 2. DSTs"
   ]
  },
  {
   "cell_type": "markdown",
   "id": "e08a8cdd-c974-47e2-a9fa-4c864d73cb60",
   "metadata": {},
   "source": [
    "### 2.1. DST Type I"
   ]
  },
  {
   "cell_type": "code",
   "execution_count": 192,
   "id": "7cad96c6-8699-46ff-b2ae-2be734096430",
   "metadata": {},
   "outputs": [],
   "source": [
    "f_base_dst1_1d = dst(f_base, 1, norm=\"ortho\", orthogonalize=False)\n",
    "\n",
    "f_ext_dst1_1d = np.zeros(2*N+2)\n",
    "f_ext_dst1_1d[1:N+1] = f_base\n",
    "f_ext_dst1_1d[N+2:] = -f_base[::-1]\n",
    "\n",
    "res_dst1_1d = -0.5 * fft(f_ext_dst1_1d)[1:N+1].imag * np.sqrt(2 / (N+1))"
   ]
  },
  {
   "cell_type": "code",
   "execution_count": 193,
   "id": "b54ca1d8-a2be-4a7d-8294-4718aa4e68f8",
   "metadata": {},
   "outputs": [
    {
     "name": "stdout",
     "output_type": "stream",
     "text": [
      "Error:  0.0\n"
     ]
    },
    {
     "data": {
      "text/plain": [
       "(array([4.87, -2.18, 1.15, -0.514]), array([4.87, -2.18, 1.15, -0.514]))"
      ]
     },
     "execution_count": 193,
     "metadata": {},
     "output_type": "execute_result"
    }
   ],
   "source": [
    "print(\"Error: \", np.sum(np.abs(f_base_dst1_1d-res_dst1_1d)))\n",
    "f_base_dst1_1d, res_dst1_1d"
   ]
  },
  {
   "cell_type": "code",
   "execution_count": 225,
   "id": "e145b7d5-2e30-4277-a4d5-7ea348946769",
   "metadata": {},
   "outputs": [],
   "source": [
    "f_base_dst1_2d = dstn(f_grid, 1, norm=\"ortho\", orthogonalize=False)\n",
    "\n",
    "f_ext_dst1_2d = np.zeros((2*N+2, 2*N+2))\n",
    "f_ext_dst1_2d[1:N+1, 1:N+1] = f_grid\n",
    "f_ext_dst1_2d[N+2:, 1:N+1] = -f_grid[::-1, :]\n",
    "f_ext_dst1_2d[1:N+1, N+2:] = -f_grid[:, ::-1]\n",
    "f_ext_dst1_2d[N+2:, N+2:] = f_grid[::-1, ::-1]\n",
    "\n",
    "res_dst1_2d = -0.25 * rfft2(f_ext_dst1_2d)[1:N+1, 1:N+1].real * 2 / (N+1)"
   ]
  },
  {
   "cell_type": "code",
   "execution_count": 226,
   "id": "fbf5f89a-e143-4692-8594-29630f983b47",
   "metadata": {},
   "outputs": [
    {
     "name": "stdout",
     "output_type": "stream",
     "text": [
      "Error:  1.3716303691971395e-13\n"
     ]
    },
    {
     "data": {
      "text/plain": [
       "(array([[101, -9.1, 29, -3.49, 11.2, -1],\n",
       "        [-54.6, -6.66e-15, -15.6, -9.77e-15, -6, 3.55e-15],\n",
       "        [29, -2.6, 8.31, -1, 3.19, -0.286],\n",
       "        [-21, -1.78e-15, -6, 4.44e-16, -2.3, -0],\n",
       "        [11.2, -1, 3.19, -0.384, 1.23, -0.11],\n",
       "        [-6, -0, -1.72, -1.11e-16, -0.659, 4.44e-16]]),\n",
       " array([[101, -9.1, 29, -3.49, 11.2, -1],\n",
       "        [-54.6, -1.93e-15, -15.6, -1.24e-15, -6, -3.77e-15],\n",
       "        [29, -2.6, 8.31, -1, 3.19, -0.286],\n",
       "        [-21, -2.23e-16, -6, 5.51e-16, -2.3, -3.02e-15],\n",
       "        [11.2, -1, 3.19, -0.384, 1.23, -0.11],\n",
       "        [-6, -1.14e-15, -1.72, 9.92e-16, -0.659, -7.48e-16]]))"
      ]
     },
     "execution_count": 226,
     "metadata": {},
     "output_type": "execute_result"
    }
   ],
   "source": [
    "print(\"Error: \", np.sum(np.abs(f_base_dst1_2d-res_dst1_2d)))\n",
    "f_base_dst1_2d, res_dst1_2d"
   ]
  },
  {
   "cell_type": "markdown",
   "id": "f9be492b-6200-4e5f-a665-5c302c3e251b",
   "metadata": {},
   "source": [
    "### 2.2. DST Type II"
   ]
  },
  {
   "cell_type": "code",
   "execution_count": 237,
   "id": "ea0be0c6-1503-4c7a-b51a-7c37c1910dc8",
   "metadata": {},
   "outputs": [],
   "source": [
    "f_base_dst2_1d = dst(f_base, 2, norm=\"ortho\", orthogonalize=False)\n",
    "\n",
    "f_ext_dst2_1d = f_base\n",
    "f_ext_dst2_1d[1::2] = -f_base[1::2]\n",
    "\n",
    "res_dst2_1d = dct(f_ext_dst2_1d, 2, norm=\"ortho\", orthogonalize=False)[::-1]"
   ]
  },
  {
   "cell_type": "code",
   "execution_count": 238,
   "id": "69401951-b2a5-4cf2-9b23-109328e5a24a",
   "metadata": {},
   "outputs": [
    {
     "name": "stdout",
     "output_type": "stream",
     "text": [
      "Error:  0.0\n"
     ]
    },
    {
     "data": {
      "text/plain": [
       "(array([0.0801, 0, 0.408, 0, 4.16, -12.1]),\n",
       " array([0.0801, 0, 0.408, 0, 4.16, -12.1]))"
      ]
     },
     "execution_count": 238,
     "metadata": {},
     "output_type": "execute_result"
    }
   ],
   "source": [
    "print(\"Error: \", np.sum(np.abs(f_base_dst2_1d-res_dst2_1d)))\n",
    "f_base_dst2_1d, res_dst2_1d"
   ]
  },
  {
   "cell_type": "code",
   "execution_count": 239,
   "id": "6a68729f-1ebc-4c3a-95b5-a34dcadd3c36",
   "metadata": {},
   "outputs": [],
   "source": [
    "f_base_dst2_2d = dstn(f_grid, 2, norm=\"ortho\", orthogonalize=False)\n",
    "\n",
    "f_ext_dst2_2d = f_grid\n",
    "f_ext_dst2_2d[1::2, ::2] = -f_grid[1::2, ::2]\n",
    "f_ext_dst2_2d[::2, 1::2] = -f_grid[::2, 1::2]\n",
    "\n",
    "res_dst2_2d = dctn(f_ext_dst2_2d, 2, norm=\"ortho\", orthogonalize=False)[::-1, ::-1]"
   ]
  },
  {
   "cell_type": "code",
   "execution_count": 240,
   "id": "ca3f0a02-643a-48cb-ad14-4369acf77e41",
   "metadata": {},
   "outputs": [
    {
     "name": "stdout",
     "output_type": "stream",
     "text": [
      "Error:  0.0\n"
     ]
    },
    {
     "data": {
      "text/plain": [
       "(array([[92.1, -7.73, 33.7, -4.46, 24.7, -3.86],\n",
       "        [-46.4, 0, -17, 0, -12.4, 0],\n",
       "        [33.7, -2.83, 12.3, -1.63, 9.03, -1.41],\n",
       "        [-26.8, 0, -9.8, 0, -7.17, 0],\n",
       "        [24.7, -2.07, 9.03, -1.2, 6.61, -1.04],\n",
       "        [-23.2, 0, -8.49, 0, -6.21, 0]]),\n",
       " array([[92.1, -7.73, 33.7, -4.46, 24.7, -3.86],\n",
       "        [-46.4, 0, -17, 0, -12.4, 0],\n",
       "        [33.7, -2.83, 12.3, -1.63, 9.03, -1.41],\n",
       "        [-26.8, 0, -9.8, 0, -7.17, 0],\n",
       "        [24.7, -2.07, 9.03, -1.2, 6.61, -1.04],\n",
       "        [-23.2, 0, -8.49, 0, -6.21, 0]]))"
      ]
     },
     "execution_count": 240,
     "metadata": {},
     "output_type": "execute_result"
    }
   ],
   "source": [
    "print(\"Error: \", np.sum(np.abs(f_base_dst2_2d-res_dst2_2d)))\n",
    "f_base_dst2_2d, res_dst2_2d"
   ]
  },
  {
   "cell_type": "markdown",
   "id": "822b0995-ccdf-4dd1-8c8d-b539fc596d42",
   "metadata": {},
   "source": [
    "### 2.3. DST Type III"
   ]
  },
  {
   "cell_type": "code",
   "execution_count": 258,
   "id": "cb971541-02ed-4f06-adc9-e8feac2b1626",
   "metadata": {},
   "outputs": [],
   "source": [
    "f_base_dst3_1d = dst(f_base, 3, norm=\"ortho\", orthogonalize=False)\n",
    "\n",
    "f_ext_dst3_1d = f_base[::-1]\n",
    "coeff = np.ones(N)\n",
    "coeff[1::2] = -1\n",
    "\n",
    "res_dst3_1d = dct(f_ext_dst3_1d, 3, norm=\"ortho\", orthogonalize=False) * coeff"
   ]
  },
  {
   "cell_type": "code",
   "execution_count": 259,
   "id": "71103172-0911-4e28-a474-91011df9e550",
   "metadata": {},
   "outputs": [
    {
     "name": "stdout",
     "output_type": "stream",
     "text": [
      "Error:  0.0\n"
     ]
    },
    {
     "data": {
      "text/plain": [
       "(array([2.08, -1.39, -0.288, -0.907, -0.239, -6.54]),\n",
       " array([2.08, -1.39, -0.288, -0.907, -0.239, -6.54]))"
      ]
     },
     "execution_count": 259,
     "metadata": {},
     "output_type": "execute_result"
    }
   ],
   "source": [
    "print(\"Error: \", np.sum(np.abs(f_base_dst3_1d-res_dst3_1d)))\n",
    "f_base_dst3_1d, res_dst3_1d"
   ]
  },
  {
   "cell_type": "code",
   "execution_count": 279,
   "id": "ea1f8e24-cfaa-463b-9bd9-32965063610e",
   "metadata": {},
   "outputs": [],
   "source": [
    "f_base_dst3_2d = dstn(f_grid, 3, norm=\"ortho\", orthogonalize=False)\n",
    "\n",
    "f_ext_dst3_2d = f_grid[::-1, ::-1]\n",
    "coeff = -np.ones((N, N))\n",
    "coeff[1::2, 1::2] = 1\n",
    "coeff[::2, ::2] = 1\n",
    "\n",
    "res_dst3_2d = dctn(f_ext_dst3_2d, 3, norm=\"ortho\", orthogonalize=False) * coeff"
   ]
  },
  {
   "cell_type": "code",
   "execution_count": 280,
   "id": "35eeaab8-17cf-40ca-841c-afed4fbb5278",
   "metadata": {},
   "outputs": [
    {
     "name": "stdout",
     "output_type": "stream",
     "text": [
      "Error:  0.0\n"
     ]
    },
    {
     "data": {
      "text/plain": [
       "(array([[-0.0477, -0.126, -0.254, -0.402, -0.81, -2.11],\n",
       "        [-0.00626, 0.0558, 0.0384, 0.158, 0.0893, 1.66],\n",
       "        [-0.135, -0.286, -0.65, -0.931, -2.1, -4.05],\n",
       "        [-0.0522, 0.0731, -0.0686, 0.176, -0.315, 3.36],\n",
       "        [-0.486, -1.09, -2.4, -3.53, -7.72, -16.2],\n",
       "        [1.11, 4.88, 7.84, 15, 24.1, 101]]),\n",
       " array([[-0.0477, -0.126, -0.254, -0.402, -0.81, -2.11],\n",
       "        [-0.00626, 0.0558, 0.0384, 0.158, 0.0893, 1.66],\n",
       "        [-0.135, -0.286, -0.65, -0.931, -2.1, -4.05],\n",
       "        [-0.0522, 0.0731, -0.0686, 0.176, -0.315, 3.36],\n",
       "        [-0.486, -1.09, -2.4, -3.53, -7.72, -16.2],\n",
       "        [1.11, 4.88, 7.84, 15, 24.1, 101]]))"
      ]
     },
     "execution_count": 280,
     "metadata": {},
     "output_type": "execute_result"
    }
   ],
   "source": [
    "print(\"Error: \", np.sum(np.abs(f_base_dst3_2d-res_dst3_2d)))\n",
    "f_base_dst3_2d, res_dst3_2d"
   ]
  }
 ],
 "metadata": {
  "kernelspec": {
   "display_name": "Python 3 (ipykernel)",
   "language": "python",
   "name": "python3"
  },
  "language_info": {
   "codemirror_mode": {
    "name": "ipython",
    "version": 3
   },
   "file_extension": ".py",
   "mimetype": "text/x-python",
   "name": "python",
   "nbconvert_exporter": "python",
   "pygments_lexer": "ipython3",
   "version": "3.10.0"
  }
 },
 "nbformat": 4,
 "nbformat_minor": 5
}
