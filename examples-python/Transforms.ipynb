{
 "cells": [
  {
   "cell_type": "markdown",
   "id": "8edb0b7b-cb8c-496e-82c7-f7c4d474ec05",
   "metadata": {},
   "source": [
    "# Imports"
   ]
  },
  {
   "cell_type": "code",
   "execution_count": 1,
   "id": "c6ec6fa2-b727-4243-b373-c5306ec1f1d8",
   "metadata": {},
   "outputs": [],
   "source": [
    "import numpy as np\n",
    "from scipy.fft import *"
   ]
  },
  {
   "cell_type": "code",
   "execution_count": 2,
   "id": "364560ff-8748-4ab6-803f-fdd6495e0bac",
   "metadata": {},
   "outputs": [],
   "source": [
    "np.set_printoptions(edgeitems=30, linewidth=100000, \n",
    "    formatter=dict(float=lambda x: \"%.3g\" % x))"
   ]
  },
  {
   "cell_type": "markdown",
   "id": "babe5a3c-bdef-4120-8ec2-91e62002eac9",
   "metadata": {},
   "source": [
    "## Setup inputs"
   ]
  },
  {
   "cell_type": "code",
   "execution_count": 781,
   "id": "18c4ca35-baec-4acf-bcb0-ef56a3c59c4b",
   "metadata": {},
   "outputs": [
    {
     "data": {
      "text/plain": [
       "array([[ 1.,  2.,  3.,  4.,  5.,  6.,  7.,  8.],\n",
       "       [ 9., 10., 11., 12., 13., 14., 15., 16.],\n",
       "       [17., 18., 19., 20., 21., 22., 23., 24.],\n",
       "       [25., 26., 27., 28., 29., 30., 31., 32.],\n",
       "       [33., 34., 35., 36., 37., 38., 39., 40.],\n",
       "       [41., 42., 43., 44., 45., 46., 47., 48.],\n",
       "       [49., 50., 51., 52., 53., 54., 55., 56.],\n",
       "       [57., 58., 59., 60., 61., 62., 63., 64.]])"
      ]
     },
     "execution_count": 781,
     "metadata": {},
     "output_type": "execute_result"
    }
   ],
   "source": [
    "N = 8\n",
    "\n",
    "f_base = np.arange(N, dtype=np.float64)+1\n",
    "f_grid = np.arange(N**2, dtype=np.float64).reshape(N, N)+1\n",
    "\n",
    "f_grid"
   ]
  },
  {
   "cell_type": "code",
   "execution_count": 783,
   "id": "4e92ad93-2404-448d-883d-60c788b46555",
   "metadata": {},
   "outputs": [
    {
     "data": {
      "text/plain": [
       "array([[  0.51,   1.47,   2.92,   4.19,   4.67,   4.19,   2.92,   1.47],\n",
       "       [  1.47,   3.74,   6.07,   6.76,   6.53,   6.76,   6.07,   3.74],\n",
       "       [  2.92,   6.07,   5.9 ,  -0.44,  -5.01,  -0.44,   5.9 ,   6.07],\n",
       "       [  4.19,   6.76,  -0.44, -20.62, -33.1 , -20.62,  -0.44,   6.76],\n",
       "       [  4.67,   6.53,  -5.01, -33.1 , -50.  , -33.1 ,  -5.01,   6.53],\n",
       "       [  4.19,   6.76,  -0.44, -20.62, -33.1 , -20.62,  -0.44,   6.76],\n",
       "       [  2.92,   6.07,   5.9 ,  -0.44,  -5.01,  -0.44,   5.9 ,   6.07],\n",
       "       [  1.47,   3.74,   6.07,   6.76,   6.53,   6.76,   6.07,   3.74]])"
      ]
     },
     "execution_count": 783,
     "metadata": {},
     "output_type": "execute_result"
    }
   ],
   "source": [
    "L = 1\n",
    "sig = 0.2\n",
    "\n",
    "h = L/N;\n",
    "x = np.arange(N, dtype=np.float64)*h;\n",
    "y = np.arange(N, dtype=np.float64)*h;\n",
    "\n",
    "X, Y = np.meshgrid(x,y);\n",
    "rsq = (X-0.5*L)**2 + (Y-0.5*L)**2;\n",
    "sigsq = sig**2;\n",
    "f_grid = np.exp(-rsq/(2*sigsq))*(rsq - 2*sigsq)/(sigsq**2);\n",
    "f_grid"
   ]
  },
  {
   "cell_type": "markdown",
   "id": "aba51964-5e88-4406-8678-da2394a7d231",
   "metadata": {},
   "source": [
    "# Transforms"
   ]
  },
  {
   "cell_type": "markdown",
   "id": "72e4e95a-9653-418f-b174-db63309200e8",
   "metadata": {},
   "source": [
    "## 1. DCTs"
   ]
  },
  {
   "cell_type": "markdown",
   "id": "81f43da4-090b-41d0-933b-7b6afc6d1711",
   "metadata": {},
   "source": [
    "### 1.1. DCT Type I"
   ]
  },
  {
   "cell_type": "code",
   "execution_count": 772,
   "id": "e391a79f-d1f0-4e64-9390-8d88c3829484",
   "metadata": {},
   "outputs": [],
   "source": [
    "f_base_dct1_1d = dct(f_base, 1, norm=\"ortho\", orthogonalize=True)\n",
    "\n",
    "f_ext_dct1_1d = np.concatenate((f_base, f_base[-2:0:-1]))\n",
    "\n",
    "f_ext_dct1_1d[0] *= np.sqrt(2)\n",
    "f_ext_dct1_1d[N-1] *= np.sqrt(2)\n",
    "\n",
    "res_dct1_1d = (rfft(f_ext_dct1_1d)).real * np.sqrt(2/(N-1)) * 0.5\n",
    "\n",
    "res_dct1_1d[0] /= np.sqrt(2)\n",
    "res_dct1_1d[N-1] /= np.sqrt(2)"
   ]
  },
  {
   "cell_type": "code",
   "execution_count": 773,
   "id": "04cef713-76c8-4442-9487-c5788ced13e3",
   "metadata": {},
   "outputs": [
    {
     "name": "stdout",
     "output_type": "stream",
     "text": [
      "Error:  8.881784197001252e-16\n"
     ]
    },
    {
     "data": {
      "text/plain": [
       "(array([ 4.93, -2.14,  0.85, -0.65]), array([ 4.93, -2.14,  0.85, -0.65]))"
      ]
     },
     "execution_count": 773,
     "metadata": {},
     "output_type": "execute_result"
    }
   ],
   "source": [
    "print(\"Error: \", np.sum(np.abs(f_base_dct1_1d-res_dct1_1d)))\n",
    "f_base_dct1_1d, res_dct1_1d"
   ]
  },
  {
   "cell_type": "code",
   "execution_count": 779,
   "id": "9c658d04-a2e5-449c-a63b-3f716e2c6d54",
   "metadata": {},
   "outputs": [],
   "source": [
    "f_base_dct1_2d = dctn(f_grid, 1, norm=\"ortho\", orthogonalize=True)\n",
    "\n",
    "f_ext_dct1_1d = np.zeros((2*N-2, 2*N-2), dtype=np.float64)\n",
    "f_ext_dct1_1d[:N, :N] = f_grid\n",
    "f_ext_dct1_1d[N:, :N] = f_grid[-2:0:-1, :]\n",
    "f_ext_dct1_1d[:N, N:] = f_grid[:, -2:0:-1]\n",
    "f_ext_dct1_1d[N:, N:] = f_grid[-2:0:-1, -2:0:-1]\n",
    "\n",
    "f_ext_dct1_1d[0, :] *= np.sqrt(2)\n",
    "f_ext_dct1_1d[:, 0] *= np.sqrt(2)\n",
    "f_ext_dct1_1d[N-1, :] *= np.sqrt(2)\n",
    "f_ext_dct1_1d[:, N-1] *= np.sqrt(2)\n",
    "\n",
    "res_dct1_2d = (rfft2(f_ext_dct1_1d) * 0.5 * 1/(N-1))[:N, :N].real\n",
    "res_dct1_2d[0, :] /= np.sqrt(2)\n",
    "res_dct1_2d[:, 0] /= np.sqrt(2)\n",
    "res_dct1_2d[N-1, :] /= np.sqrt(2)\n",
    "res_dct1_2d[:, N-1] /= np.sqrt(2)"
   ]
  },
  {
   "cell_type": "code",
   "execution_count": 780,
   "id": "8b658fd6-c2c4-4f0d-925f-607ddc7d9bc2",
   "metadata": {},
   "outputs": [
    {
     "name": "stdout",
     "output_type": "stream",
     "text": [
      "Error:  8.10932742149721e-15\n"
     ]
    },
    {
     "data": {
      "text/plain": [
       "(array([[-2.60e+00,  4.44e-15,  1.02e+01, -5.65e-15],\n",
       "        [ 4.61e-15, -8.88e-16, -3.26e-15,  1.26e-15],\n",
       "        [ 1.02e+01, -1.78e-15, -1.16e+01,  3.77e-15],\n",
       "        [-5.33e-15,  1.26e-15,  3.77e-15, -1.78e-15]]),\n",
       " array([[-2.60e+00,  4.61e-15,  1.02e+01, -5.33e-15],\n",
       "        [ 3.77e-15, -8.88e-16, -2.37e-15,  1.26e-15],\n",
       "        [ 1.02e+01, -3.26e-15, -1.16e+01,  3.77e-15],\n",
       "        [-5.33e-15,  1.26e-15,  3.35e-15, -1.78e-15]]))"
      ]
     },
     "execution_count": 780,
     "metadata": {},
     "output_type": "execute_result"
    }
   ],
   "source": [
    "print(\"Error: \", np.sum(np.abs(f_base_dct1_2d-res_dct1_2d)))\n",
    "f_base_dct1_2d, res_dct1_2d"
   ]
  },
  {
   "cell_type": "markdown",
   "id": "e9975d63-f064-4b84-9c72-cdc6b63425e7",
   "metadata": {},
   "source": [
    "### 1.2. DCT Type II"
   ]
  },
  {
   "cell_type": "code",
   "execution_count": 593,
   "id": "017c69c4-5220-45a6-9d15-7d73469d0286",
   "metadata": {},
   "outputs": [],
   "source": [
    "f_base_dct2_1d = dct(f_base, 2, norm=\"ortho\", orthogonalize=True)\n",
    "\n",
    "f_ext_dct2_1d = np.zeros(4*N)\n",
    "f_ext_dct2_1d[1:2*N:2] = f_base\n",
    "f_ext_dct2_1d[2*N+1:4*N:2] = f_base[::-1]\n",
    "\n",
    "res_dct2_1d = (rfft(f_ext_dct2_1d) * np.sqrt(2/N) * 0.5)[:N].real\n",
    "res_dct2_1d[0] /= np.sqrt(2)"
   ]
  },
  {
   "cell_type": "code",
   "execution_count": 594,
   "id": "2498fcc7-896f-48f4-ad5d-51141744689f",
   "metadata": {},
   "outputs": [
    {
     "name": "stdout",
     "output_type": "stream",
     "text": [
      "Error:  3.497202527569243e-15\n"
     ]
    },
    {
     "data": {
      "text/plain": [
       "(array([12.7, -6.44, 0, -0.673, 0, -0.201, 0, -0.0507]),\n",
       " array([12.7, -6.44, 0, -0.673, 0, -0.201, 0, -0.0507]))"
      ]
     },
     "execution_count": 594,
     "metadata": {},
     "output_type": "execute_result"
    }
   ],
   "source": [
    "print(\"Error: \", np.sum(np.abs(f_base_dct2_1d-res_dct2_1d)))\n",
    "f_base_dct2_1d, res_dct2_1d"
   ]
  },
  {
   "cell_type": "code",
   "execution_count": 599,
   "id": "1a98b7ea-c966-4696-b115-56cd67728cb5",
   "metadata": {},
   "outputs": [],
   "source": [
    "f_base_dct2_2d = dctn(f_grid, 2, norm=\"ortho\", orthogonalize=True)\n",
    "\n",
    "f_ext_dct2_2d = np.zeros((4*N, 4*N))\n",
    "f_ext_dct2_2d[1:2*N:2, 1:2*N:2] = f_grid\n",
    "f_ext_dct2_2d[2*N+1:4*N:2, 1:2*N:2] = f_grid[::-1, :]\n",
    "f_ext_dct2_2d[1:2*N:2, 2*N+1:4*N:2] = f_grid[:, ::-1]\n",
    "f_ext_dct2_2d[2*N+1:4*N:2, 2*N+1:4*N:2] = f_grid[::-1, ::-1]\n",
    "\n",
    "res_dct2_2d = (rfft2(f_ext_dct2_2d) * (2/N) * 0.25)[:N, :N].real\n",
    "res_dct2_2d[0, :] /= np.sqrt(2)\n",
    "res_dct2_2d[:, 0] /= np.sqrt(2)"
   ]
  },
  {
   "cell_type": "code",
   "execution_count": 600,
   "id": "2d7f876e-c28f-42d6-a530-2dd4327fe26e",
   "metadata": {},
   "outputs": [
    {
     "name": "stdout",
     "output_type": "stream",
     "text": [
      "Error:  6.676825531137018e-14\n"
     ]
    },
    {
     "data": {
      "text/plain": [
       "(array([[-2.63, 6.32e-15, 35.3, -1.27e-14, -24.5, 7.64e-15, 2.11, 4.16e-16],\n",
       "        [6.65e-15, -5.4e-16, -7.36e-15, 2.09e-16, 3.38e-15, 9.64e-16, -6.08e-16, -9.18e-16],\n",
       "        [35.3, -8.74e-15, -53.4, 1.88e-14, 23.2, -1.23e-14, -1.9, -1.12e-15],\n",
       "        [-1.33e-14, 1.3e-16, 1.5e-14, 1.27e-15, -6.29e-15, -2.17e-15, 6.16e-16, 1.33e-16],\n",
       "        [-24.5, 2.67e-15, 23.2, -5.46e-15, -6.02, 3.65e-15, 0.445, -5.3e-16],\n",
       "        [7.57e-15, 1.04e-15, -8.64e-15, -2.28e-15, 3.42e-15, 9.51e-16, -1.24e-16, 1.78e-15],\n",
       "        [2.11, -7.78e-16, -1.9, 1.47e-15, 0.445, -1.35e-15, -0.0319, 1.5e-15],\n",
       "        [1.84e-15, -8.07e-16, -2.14e-15, 5.42e-17, 9.31e-17, 1.7e-15, 7.86e-16, -1.01e-15]]),\n",
       " array([[-2.63, 6.65e-15, 35.3, -1.33e-14, -24.5, 7.57e-15, 2.11, 1.84e-15],\n",
       "        [6.53e-15, -6e-16, -8.29e-15, 1.18e-16, 2.67e-15, 1.14e-15, -1.37e-16, -7.3e-16],\n",
       "        [35.3, -7.68e-15, -53.4, 1.52e-14, 23.2, -8.46e-15, -1.9, -2.21e-15],\n",
       "        [-1.31e-14, 1.18e-16, 1.61e-14, 1.45e-15, -5.46e-15, -2.34e-15, -5.91e-18, -1.21e-16],\n",
       "        [-24.5, 3.16e-15, 23.2, -6.11e-15, -6.02, 3.55e-15, 0.445, 4.97e-17],\n",
       "        [8.04e-15, 1.14e-15, -8.33e-15, -2.34e-15, 3.65e-15, 8.74e-16, -1.68e-16, 1.76e-15],\n",
       "        [2.11, -2.4e-16, -1.9, 3.04e-16, 0.445, -3.33e-16, -0.0319, 8.6e-16],\n",
       "        [1.8e-16, -7.3e-16, -3.37e-15, -1.21e-16, -5.3e-16, 1.76e-15, 1.19e-15, -8.4e-16]]))"
      ]
     },
     "execution_count": 600,
     "metadata": {},
     "output_type": "execute_result"
    }
   ],
   "source": [
    "print(\"Error: \", np.sum(np.abs(f_base_dct2_2d-res_dct2_2d)))\n",
    "f_base_dct2_2d, res_dct2_2d"
   ]
  },
  {
   "cell_type": "markdown",
   "id": "c37caba0-1ac3-4852-9720-e048403fe3a2",
   "metadata": {},
   "source": [
    "### 1.3. DCT Type III"
   ]
  },
  {
   "cell_type": "code",
   "execution_count": 603,
   "id": "ac055811-cb70-4d24-a04d-349dc1e208c5",
   "metadata": {},
   "outputs": [],
   "source": [
    "f_base_dct3_1d = dct(f_base, 3, norm=\"ortho\", orthogonalize=True)\n",
    "\n",
    "f_ext_dct3_1d = f_base * 2.0 * np.sqrt(N/2) * np.exp((np.arange(N) * np.pi * 0.5 / N)*1j)\n",
    "f_ext_dct3_1d[0] *= np.sqrt(2)\n",
    "\n",
    "res_dct3_1d = irfft(f_ext_dct3_1d, n=2*N)[:N]"
   ]
  },
  {
   "cell_type": "code",
   "execution_count": 604,
   "id": "200fbef5-85a8-4349-ac96-da632ee5a931",
   "metadata": {},
   "outputs": [
    {
     "name": "stdout",
     "output_type": "stream",
     "text": [
      "Error:  5.329070518200751e-15\n"
     ]
    },
    {
     "data": {
      "text/plain": [
       "(array([9.94, -8.8, 3.75, -2.95, 1.74, -1.26, 0.65, -0.244]),\n",
       " array([9.94, -8.8, 3.75, -2.95, 1.74, -1.26, 0.65, -0.244]))"
      ]
     },
     "execution_count": 604,
     "metadata": {},
     "output_type": "execute_result"
    }
   ],
   "source": [
    "print(\"Error: \", np.sum(np.abs(f_base_dct3_1d-res_dct3_1d)))\n",
    "f_base_dct3_1d, res_dct3_1d"
   ]
  },
  {
   "cell_type": "code",
   "execution_count": 605,
   "id": "44901772-ee1b-40a5-a57b-565fa15ab307",
   "metadata": {},
   "outputs": [],
   "source": [
    "f_base_dct3_2d = dctn(f_grid, 3, norm=\"ortho\", orthogonalize=True)\n",
    "\n",
    "def dct3_1d(inp):\n",
    "\n",
    "    temp = inp * 2.0 * np.sqrt(N/2) * np.exp((np.arange(N) * np.pi * 0.5 / N)*1j)\n",
    "    temp[0] *= np.sqrt(2)\n",
    "    return irfft(temp, n=2*N)[:N].real\n",
    "\n",
    "f_ext_dct3_2d = np.apply_along_axis(dct3_1d, 0, f_grid)\n",
    "res_dct3_2d = np.apply_along_axis(dct3_1d, 1, f_ext_dct3_2d)"
   ]
  },
  {
   "cell_type": "code",
   "execution_count": 606,
   "id": "ae568d46-36ba-4f3a-ad21-d7c3e9ec6faf",
   "metadata": {},
   "outputs": [
    {
     "name": "stdout",
     "output_type": "stream",
     "text": [
      "Error:  1.5125227459389379e-13\n"
     ]
    },
    {
     "data": {
      "text/plain": [
       "(array([[-10.4, 13.5, 41.2, -4.59, -17.3, -2.22, 0.739, -0.23],\n",
       "        [13.5, -10.2, -23.4, 2.25, 8.48, 1.03, -0.385, 0.0787],\n",
       "        [41.2, -23.4, -39.3, 2.89, 10.9, 1.14, -0.56, 0.00424],\n",
       "        [-4.59, 2.25, 2.89, -0.139, -0.528, -0.0354, 0.0341, 0.0104],\n",
       "        [-17.3, 8.48, 10.9, -0.528, -2, -0.135, 0.129, 0.0389],\n",
       "        [-2.22, 1.03, 1.14, -0.0354, -0.135, -0.00109, 0.0116, 0.00693],\n",
       "        [0.739, -0.385, -0.56, 0.0341, 0.129, 0.0116, -0.0073, -0.000978],\n",
       "        [-0.23, 0.0787, 0.00424, 0.0104, 0.0389, 0.00693, -0.000978, 0.00155]]),\n",
       " array([[-10.4, 13.5, 41.2, -4.59, -17.3, -2.22, 0.739, -0.23],\n",
       "        [13.5, -10.2, -23.4, 2.25, 8.48, 1.03, -0.385, 0.0787],\n",
       "        [41.2, -23.4, -39.3, 2.89, 10.9, 1.14, -0.56, 0.00424],\n",
       "        [-4.59, 2.25, 2.89, -0.139, -0.528, -0.0354, 0.0341, 0.0104],\n",
       "        [-17.3, 8.48, 10.9, -0.528, -2, -0.135, 0.129, 0.0389],\n",
       "        [-2.22, 1.03, 1.14, -0.0354, -0.135, -0.00109, 0.0116, 0.00693],\n",
       "        [0.739, -0.385, -0.56, 0.0341, 0.129, 0.0116, -0.0073, -0.000978],\n",
       "        [-0.23, 0.0787, 0.00424, 0.0104, 0.0389, 0.00693, -0.000978, 0.00155]]))"
      ]
     },
     "execution_count": 606,
     "metadata": {},
     "output_type": "execute_result"
    }
   ],
   "source": [
    "print(\"Error: \", np.sum(np.abs(f_base_dct3_2d-res_dct3_2d)))\n",
    "f_base_dct3_2d, res_dct3_2d"
   ]
  },
  {
   "cell_type": "markdown",
   "id": "165ab88b-4c6d-4078-95c1-a8e6d276e3ad",
   "metadata": {},
   "source": [
    "## 2. DSTs"
   ]
  },
  {
   "cell_type": "markdown",
   "id": "e08a8cdd-c974-47e2-a9fa-4c864d73cb60",
   "metadata": {},
   "source": [
    "### 2.1. DST Type I"
   ]
  },
  {
   "cell_type": "code",
   "execution_count": 777,
   "id": "7cad96c6-8699-46ff-b2ae-2be734096430",
   "metadata": {},
   "outputs": [],
   "source": [
    "f_base_dst1_1d = dst(f_base, 1, norm=\"ortho\", orthogonalize=True)\n",
    "\n",
    "f_ext_dst1_1d = np.zeros(2*N+2)\n",
    "f_ext_dst1_1d[1:N+1] = f_base\n",
    "f_ext_dst1_1d[N+2:] = -f_base[::-1]\n",
    "\n",
    "res_dst1_1d = -0.5 * fft(f_ext_dst1_1d)[1:N+1].imag * np.sqrt(2 / (N+1))"
   ]
  },
  {
   "cell_type": "code",
   "execution_count": 778,
   "id": "b54ca1d8-a2be-4a7d-8294-4718aa4e68f8",
   "metadata": {},
   "outputs": [
    {
     "name": "stdout",
     "output_type": "stream",
     "text": [
      "Error:  0.0\n"
     ]
    },
    {
     "data": {
      "text/plain": [
       "(array([ 4.87, -2.18,  1.15, -0.51]), array([ 4.87, -2.18,  1.15, -0.51]))"
      ]
     },
     "execution_count": 778,
     "metadata": {},
     "output_type": "execute_result"
    }
   ],
   "source": [
    "print(\"Error: \", np.sum(np.abs(f_base_dst1_1d-res_dst1_1d)))\n",
    "f_base_dst1_1d, res_dst1_1d"
   ]
  },
  {
   "cell_type": "code",
   "execution_count": 618,
   "id": "e145b7d5-2e30-4277-a4d5-7ea348946769",
   "metadata": {},
   "outputs": [],
   "source": [
    "f_base_dst1_2d = dstn(f_grid, 1, norm=\"ortho\", orthogonalize=True)\n",
    "\n",
    "f_ext_dst1_2d = np.zeros((2*N+2, 2*N+2))\n",
    "f_ext_dst1_2d[1:N+1, 1:N+1] = f_grid\n",
    "f_ext_dst1_2d[N+2:, 1:N+1] = -f_grid[::-1, :]\n",
    "f_ext_dst1_2d[1:N+1, N+2:] = -f_grid[:, ::-1]\n",
    "f_ext_dst1_2d[N+2:, N+2:] = f_grid[::-1, ::-1]\n",
    "\n",
    "res_dst1_2d = -0.5 * rfft2(f_ext_dst1_2d)[1:N+1, 1:N+1].real / (N+1)"
   ]
  },
  {
   "cell_type": "code",
   "execution_count": 619,
   "id": "fbf5f89a-e143-4692-8594-29630f983b47",
   "metadata": {},
   "outputs": [
    {
     "name": "stdout",
     "output_type": "stream",
     "text": [
      "Error:  8.149772688176259e-14\n"
     ]
    },
    {
     "data": {
      "text/plain": [
       "(array([[-25.6, 1.11e-14, 49.7, -1.78e-14, -18.8, 7.11e-15, 2.21, -0],\n",
       "        [1.11e-14, -8.44e-16, -6.42e-15, -5.63e-16, 2.58e-15, 1.28e-15, -4.06e-16, -3.87e-17],\n",
       "        [49.7, -8.66e-15, -34.4, 1.33e-14, 9.52, -7.11e-15, -0.972, -0],\n",
       "        [-1.59e-14, -4.93e-16, 1.14e-14, 1.67e-15, -4.25e-15, -7.69e-16, 4.07e-16, -1.94e-15],\n",
       "        [-18.8, 5.27e-16, 9.52, -1.11e-15, -2.07, 1.78e-15, 0.18, -0],\n",
       "        [9.01e-15, 1.37e-15, -5.4e-15, -1.37e-15, 1.3e-15, -3.94e-31, 4.96e-16, 1.37e-15],\n",
       "        [2.21, 3.42e-16, -0.972, -7.22e-16, 0.18, 6.11e-16, -0.0133, -4.44e-16],\n",
       "        [1.37e-15, -6.46e-16, -0, -2.4e-15, -1.37e-15, 4.1e-15, 1.37e-15, -2.27e-15]]),\n",
       " array([[-25.6, 1.11e-14, 49.7, -1.59e-14, -18.8, 9.01e-15, 2.21, 1.37e-15],\n",
       "        [1.2e-14, -8.44e-16, -1.04e-14, -4.93e-16, 2e-15, 1.37e-15, 2.7e-16, -6.46e-16],\n",
       "        [49.7, -6.42e-15, -34.4, 1.14e-14, 9.52, -5.4e-15, -0.972, -1.56e-31],\n",
       "        [-1.49e-14, -5.63e-16, 1.23e-14, 1.67e-15, -2.35e-15, -1.37e-15, -6.45e-16, -2.4e-15],\n",
       "        [-18.8, 2.58e-15, 9.52, -4.25e-15, -2.07, 1.3e-15, 0.18, -1.37e-15],\n",
       "        [6.15e-15, 1.28e-15, -5.47e-15, -7.69e-16, 1.28e-15, -0, 6.41e-16, 4.1e-15],\n",
       "        [2.21, -4.06e-16, -0.972, 4.07e-16, 0.18, 4.96e-16, -0.0133, 1.37e-15],\n",
       "        [4.89e-15, -3.87e-17, -1.98e-15, -1.94e-15, -2.51e-16, 1.37e-15, -2.74e-16, -2.27e-15]]))"
      ]
     },
     "execution_count": 619,
     "metadata": {},
     "output_type": "execute_result"
    }
   ],
   "source": [
    "print(\"Error: \", np.sum(np.abs(f_base_dst1_2d-res_dst1_2d)))\n",
    "f_base_dst1_2d, res_dst1_2d"
   ]
  },
  {
   "cell_type": "markdown",
   "id": "f9be492b-6200-4e5f-a665-5c302c3e251b",
   "metadata": {},
   "source": [
    "### 2.2. DST Type II"
   ]
  },
  {
   "cell_type": "code",
   "execution_count": 607,
   "id": "ea0be0c6-1503-4c7a-b51a-7c37c1910dc8",
   "metadata": {},
   "outputs": [],
   "source": [
    "f_base_dst2_1d = dst(f_base, 2, norm=\"ortho\", orthogonalize=True)\n",
    "\n",
    "f_ext_dst2_1d = f_base\n",
    "f_ext_dst2_1d[1::2] = -f_base[1::2]\n",
    "\n",
    "res_dst2_1d = dct(f_ext_dst2_1d, 2, norm=\"ortho\", orthogonalize=True)[::-1]"
   ]
  },
  {
   "cell_type": "code",
   "execution_count": 608,
   "id": "69401951-b2a5-4cf2-9b23-109328e5a24a",
   "metadata": {},
   "outputs": [
    {
     "name": "stdout",
     "output_type": "stream",
     "text": [
      "Error:  0.0\n"
     ]
    },
    {
     "data": {
      "text/plain": [
       "(array([11.5, -5.23, 4.05, -2.83, 2.71, -2.16, 2.29, -1.41]),\n",
       " array([11.5, -5.23, 4.05, -2.83, 2.71, -2.16, 2.29, -1.41]))"
      ]
     },
     "execution_count": 608,
     "metadata": {},
     "output_type": "execute_result"
    }
   ],
   "source": [
    "print(\"Error: \", np.sum(np.abs(f_base_dst2_1d-res_dst2_1d)))\n",
    "f_base_dst2_1d, res_dst2_1d"
   ]
  },
  {
   "cell_type": "code",
   "execution_count": 610,
   "id": "6a68729f-1ebc-4c3a-95b5-a34dcadd3c36",
   "metadata": {},
   "outputs": [],
   "source": [
    "f_base_dst2_2d = dstn(f_grid, 2, norm=\"ortho\", orthogonalize=True)\n",
    "\n",
    "f_ext_dst2_2d = f_grid\n",
    "f_ext_dst2_2d[1::2, ::2] = -f_grid[1::2, ::2]\n",
    "f_ext_dst2_2d[::2, 1::2] = -f_grid[::2, 1::2]\n",
    "\n",
    "res_dst2_2d = dctn(f_ext_dst2_2d, 2, norm=\"ortho\", orthogonalize=True)[::-1, ::-1]"
   ]
  },
  {
   "cell_type": "code",
   "execution_count": 611,
   "id": "ca3f0a02-643a-48cb-ad14-4369acf77e41",
   "metadata": {},
   "outputs": [
    {
     "name": "stdout",
     "output_type": "stream",
     "text": [
      "Error:  0.0\n"
     ]
    },
    {
     "data": {
      "text/plain": [
       "(array([[-1.01e-15, 7.86e-16, 1.7e-15, 9.31e-17, 5.42e-17, -2.14e-15, -8.07e-16, 1.84e-15],\n",
       "        [1.5e-15, -0.0319, -1.35e-15, 0.445, 1.47e-15, -1.9, -7.78e-16, 2.11],\n",
       "        [1.78e-15, -1.24e-16, 9.51e-16, 3.42e-15, -2.28e-15, -8.64e-15, 1.04e-15, 7.57e-15],\n",
       "        [-5.3e-16, 0.445, 3.65e-15, -6.02, -5.46e-15, 23.2, 2.67e-15, -24.5],\n",
       "        [1.33e-16, 6.16e-16, -2.17e-15, -6.29e-15, 1.27e-15, 1.5e-14, 1.3e-16, -1.33e-14],\n",
       "        [-1.12e-15, -1.9, -1.23e-14, 23.2, 1.88e-14, -53.4, -8.74e-15, 35.3],\n",
       "        [-9.18e-16, -6.08e-16, 9.64e-16, 3.38e-15, 2.09e-16, -7.36e-15, -5.4e-16, 6.65e-15],\n",
       "        [4.16e-16, 2.11, 7.64e-15, -24.5, -1.27e-14, 35.3, 6.32e-15, -2.63]]),\n",
       " array([[-1.01e-15, 7.86e-16, 1.7e-15, 9.31e-17, 5.42e-17, -2.14e-15, -8.07e-16, 1.84e-15],\n",
       "        [1.5e-15, -0.0319, -1.35e-15, 0.445, 1.47e-15, -1.9, -7.78e-16, 2.11],\n",
       "        [1.78e-15, -1.24e-16, 9.51e-16, 3.42e-15, -2.28e-15, -8.64e-15, 1.04e-15, 7.57e-15],\n",
       "        [-5.3e-16, 0.445, 3.65e-15, -6.02, -5.46e-15, 23.2, 2.67e-15, -24.5],\n",
       "        [1.33e-16, 6.16e-16, -2.17e-15, -6.29e-15, 1.27e-15, 1.5e-14, 1.3e-16, -1.33e-14],\n",
       "        [-1.12e-15, -1.9, -1.23e-14, 23.2, 1.88e-14, -53.4, -8.74e-15, 35.3],\n",
       "        [-9.18e-16, -6.08e-16, 9.64e-16, 3.38e-15, 2.09e-16, -7.36e-15, -5.4e-16, 6.65e-15],\n",
       "        [4.16e-16, 2.11, 7.64e-15, -24.5, -1.27e-14, 35.3, 6.32e-15, -2.63]]))"
      ]
     },
     "execution_count": 611,
     "metadata": {},
     "output_type": "execute_result"
    }
   ],
   "source": [
    "print(\"Error: \", np.sum(np.abs(f_base_dst2_2d-res_dst2_2d)))\n",
    "f_base_dst2_2d, res_dst2_2d"
   ]
  },
  {
   "cell_type": "markdown",
   "id": "822b0995-ccdf-4dd1-8c8d-b539fc596d42",
   "metadata": {},
   "source": [
    "### 2.3. DST Type III"
   ]
  },
  {
   "cell_type": "code",
   "execution_count": 612,
   "id": "cb971541-02ed-4f06-adc9-e8feac2b1626",
   "metadata": {},
   "outputs": [],
   "source": [
    "f_base_dst3_1d = dst(f_base, 3, norm=\"ortho\", orthogonalize=True)\n",
    "\n",
    "f_ext_dst3_1d = f_base[::-1]\n",
    "coeff = np.ones(N)\n",
    "coeff[1::2] = -1\n",
    "\n",
    "res_dst3_1d = dct(f_ext_dst3_1d, 3, norm=\"ortho\", orthogonalize=True) * coeff"
   ]
  },
  {
   "cell_type": "code",
   "execution_count": 613,
   "id": "71103172-0911-4e28-a474-91011df9e550",
   "metadata": {},
   "outputs": [
    {
     "name": "stdout",
     "output_type": "stream",
     "text": [
      "Error:  0.0\n"
     ]
    },
    {
     "data": {
      "text/plain": [
       "(array([-0.955, 0.965, -0.989, 1.04, -1.14, 1.39, -2.31, 13.8]),\n",
       " array([-0.955, 0.965, -0.989, 1.04, -1.14, 1.39, -2.31, 13.8]))"
      ]
     },
     "execution_count": 613,
     "metadata": {},
     "output_type": "execute_result"
    }
   ],
   "source": [
    "print(\"Error: \", np.sum(np.abs(f_base_dst3_1d-res_dst3_1d)))\n",
    "f_base_dst3_1d, res_dst3_1d"
   ]
  },
  {
   "cell_type": "code",
   "execution_count": 614,
   "id": "ea1f8e24-cfaa-463b-9bd9-32965063610e",
   "metadata": {},
   "outputs": [],
   "source": [
    "f_base_dst3_2d = dstn(f_grid, 3, norm=\"ortho\", orthogonalize=True)\n",
    "\n",
    "f_ext_dst3_2d = f_grid[::-1, ::-1]\n",
    "coeff = -np.ones((N, N))\n",
    "coeff[1::2, 1::2] = 1\n",
    "coeff[::2, ::2] = 1\n",
    "\n",
    "res_dst3_2d = dctn(f_ext_dst3_2d, 3, norm=\"ortho\", orthogonalize=True) * coeff"
   ]
  },
  {
   "cell_type": "code",
   "execution_count": 615,
   "id": "35eeaab8-17cf-40ca-841c-afed4fbb5278",
   "metadata": {},
   "outputs": [
    {
     "name": "stdout",
     "output_type": "stream",
     "text": [
      "Error:  0.0\n"
     ]
    },
    {
     "data": {
      "text/plain": [
       "(array([[-10.4, -13.5, 41.2, 4.59, -17.3, 2.22, 0.739, 0.23],\n",
       "        [-13.5, -10.2, 23.4, 2.25, -8.48, 1.03, 0.385, 0.0787],\n",
       "        [41.2, 23.4, -39.3, -2.89, 10.9, -1.14, -0.56, -0.00424],\n",
       "        [4.59, 2.25, -2.89, -0.139, 0.528, -0.0354, -0.0341, 0.0104],\n",
       "        [-17.3, -8.48, 10.9, 0.528, -2, 0.135, 0.129, -0.0389],\n",
       "        [2.22, 1.03, -1.14, -0.0354, 0.135, -0.00109, -0.0116, 0.00693],\n",
       "        [0.739, 0.385, -0.56, -0.0341, 0.129, -0.0116, -0.0073, 0.000978],\n",
       "        [0.23, 0.0787, -0.00424, 0.0104, -0.0389, 0.00693, 0.000978, 0.00155]]),\n",
       " array([[-10.4, -13.5, 41.2, 4.59, -17.3, 2.22, 0.739, 0.23],\n",
       "        [-13.5, -10.2, 23.4, 2.25, -8.48, 1.03, 0.385, 0.0787],\n",
       "        [41.2, 23.4, -39.3, -2.89, 10.9, -1.14, -0.56, -0.00424],\n",
       "        [4.59, 2.25, -2.89, -0.139, 0.528, -0.0354, -0.0341, 0.0104],\n",
       "        [-17.3, -8.48, 10.9, 0.528, -2, 0.135, 0.129, -0.0389],\n",
       "        [2.22, 1.03, -1.14, -0.0354, 0.135, -0.00109, -0.0116, 0.00693],\n",
       "        [0.739, 0.385, -0.56, -0.0341, 0.129, -0.0116, -0.0073, 0.000978],\n",
       "        [0.23, 0.0787, -0.00424, 0.0104, -0.0389, 0.00693, 0.000978, 0.00155]]))"
      ]
     },
     "execution_count": 615,
     "metadata": {},
     "output_type": "execute_result"
    }
   ],
   "source": [
    "print(\"Error: \", np.sum(np.abs(f_base_dst3_2d-res_dst3_2d)))\n",
    "f_base_dst3_2d, res_dst3_2d"
   ]
  },
  {
   "cell_type": "markdown",
   "id": "4e6e031c-1120-4011-abe1-e7634b41ce03",
   "metadata": {},
   "source": [
    "# Tests"
   ]
  },
  {
   "cell_type": "code",
   "execution_count": 688,
   "id": "b38dbacf-c082-4de7-868b-9a2ae18c02e7",
   "metadata": {},
   "outputs": [
    {
     "data": {
      "text/plain": [
       "array([[1, 1.41, 1],\n",
       "       [1.41, 0, -1.41],\n",
       "       [1, -1.41, 1]])"
      ]
     },
     "execution_count": 688,
     "metadata": {},
     "output_type": "execute_result"
    }
   ],
   "source": [
    "m = dct(np.eye(3), 1, norm=\"backward\", orthogonalize=True, axis=0)\n",
    "m"
   ]
  },
  {
   "cell_type": "code",
   "execution_count": 646,
   "id": "3b1eff0f-ae97-41fd-a565-104e5d8efcc3",
   "metadata": {},
   "outputs": [
    {
     "data": {
      "text/plain": [
       "array([[4, 0, 4.44e-16],\n",
       "       [0, 4, 0],\n",
       "       [4.44e-16, 0, 4]])"
      ]
     },
     "execution_count": 646,
     "metadata": {},
     "output_type": "execute_result"
    }
   ],
   "source": [
    "m @ m"
   ]
  },
  {
   "cell_type": "code",
   "execution_count": 736,
   "id": "a21d69ba-2a4c-43ea-ab92-03dbcb5a53f2",
   "metadata": {},
   "outputs": [
    {
     "data": {
      "text/plain": [
       "array([12.07, -5.24,  2.07, -1.59])"
      ]
     },
     "execution_count": 736,
     "metadata": {},
     "output_type": "execute_result"
    }
   ],
   "source": [
    "dct(np.arange(4)+1, 1, norm=\"backward\", orthogonalize=True)"
   ]
  },
  {
   "cell_type": "code",
   "execution_count": 653,
   "id": "546050a8-37c8-48d0-a7d6-893bd670dd79",
   "metadata": {},
   "outputs": [
    {
     "data": {
      "text/plain": [
       "array([2, -1, 0])"
      ]
     },
     "execution_count": 653,
     "metadata": {},
     "output_type": "execute_result"
    }
   ],
   "source": [
    "m @ [0, 1, 2]"
   ]
  },
  {
   "cell_type": "code",
   "execution_count": 658,
   "id": "91bc54c4-6f59-4b97-983f-49051a4e038e",
   "metadata": {},
   "outputs": [
    {
     "data": {
      "text/plain": [
       "array([4, -2, 0])"
      ]
     },
     "execution_count": 658,
     "metadata": {},
     "output_type": "execute_result"
    }
   ],
   "source": [
    "f_ext_dct1_1d = np.concatenate((np.arange(3), np.arange(3)[-2:0:-1]))\n",
    "\n",
    "(rfft(f_ext_dct1_1d)).real"
   ]
  },
  {
   "cell_type": "code",
   "execution_count": 661,
   "id": "7b7d975d-0110-47d8-bc42-9456e196195f",
   "metadata": {},
   "outputs": [
    {
     "data": {
      "text/plain": [
       "array([0, 1, 2, 1])"
      ]
     },
     "execution_count": 661,
     "metadata": {},
     "output_type": "execute_result"
    }
   ],
   "source": [
    "f_ext_dct1_1d"
   ]
  },
  {
   "cell_type": "code",
   "execution_count": 677,
   "id": "23e8df64-c4ce-480b-862f-5c2a9cd01985",
   "metadata": {},
   "outputs": [
    {
     "data": {
      "text/plain": [
       "array([4, -2, 0])"
      ]
     },
     "execution_count": 677,
     "metadata": {},
     "output_type": "execute_result"
    }
   ],
   "source": [
    "(rfft(np.eye(4), axis=0) @ f_ext_dct1_1d).real"
   ]
  },
  {
   "cell_type": "code",
   "execution_count": 681,
   "id": "a89f295f-85e8-424c-9f12-4557a84a53ff",
   "metadata": {},
   "outputs": [
    {
     "data": {
      "text/plain": [
       "array([[ 1.+0.j,  1.+0.j,  1.+0.j,  1.+0.j],\n",
       "       [ 1.+0.j,  0.-1.j, -1.+0.j,  0.+1.j],\n",
       "       [ 1.+0.j, -1.+0.j,  1.+0.j, -1.+0.j]])"
      ]
     },
     "execution_count": 681,
     "metadata": {},
     "output_type": "execute_result"
    }
   ],
   "source": [
    "rm = rfft(np.eye(4), axis=0)\n",
    "rm"
   ]
  },
  {
   "cell_type": "code",
   "execution_count": 698,
   "id": "0916e2d5-aa2b-40bc-abe5-366467ef1119",
   "metadata": {},
   "outputs": [
    {
     "data": {
      "text/plain": [
       "array([[1, 2, 1],\n",
       "       [1, 0, -1],\n",
       "       [1, -2, 1]])"
      ]
     },
     "execution_count": 698,
     "metadata": {},
     "output_type": "execute_result"
    }
   ],
   "source": [
    "res_rm = np.array([rm[:, 0], rm[:, 1] + rm[:, 3], rm[:, 2]]).T.real\n",
    "res_rm"
   ]
  },
  {
   "cell_type": "code",
   "execution_count": 702,
   "id": "14803469-483f-4851-9da0-7baf88ff25ea",
   "metadata": {},
   "outputs": [
    {
     "data": {
      "text/plain": [
       "array([[1, 1.41, 1],\n",
       "       [1, 0, -1],\n",
       "       [1, -1.41, 1]])"
      ]
     },
     "execution_count": 702,
     "metadata": {},
     "output_type": "execute_result"
    }
   ],
   "source": [
    "res_rm @ np.diag([1, np.sqrt(2)/2, 1])"
   ]
  },
  {
   "cell_type": "code",
   "execution_count": 705,
   "id": "24da70b1-db61-4609-8d10-2ee5e785567e",
   "metadata": {},
   "outputs": [
    {
     "data": {
      "text/plain": [
       "array([3.41, -2, 0.586])"
      ]
     },
     "execution_count": 705,
     "metadata": {},
     "output_type": "execute_result"
    }
   ],
   "source": [
    "(res_rm @ np.diag([1, np.sqrt(2)/2, 1])) @ np.arange(3)"
   ]
  },
  {
   "cell_type": "code",
   "execution_count": 706,
   "id": "658c78f5-895a-424c-aae6-04e1b5953936",
   "metadata": {},
   "outputs": [
    {
     "data": {
      "text/plain": [
       "array([0, 0.707, 2])"
      ]
     },
     "execution_count": 706,
     "metadata": {},
     "output_type": "execute_result"
    }
   ],
   "source": [
    "np.diag([1, np.sqrt(2)/2, 1]) @ np.arange(3)"
   ]
  },
  {
   "cell_type": "code",
   "execution_count": 721,
   "id": "20627169-d43c-4f52-99dc-22a3144048df",
   "metadata": {},
   "outputs": [
    {
     "data": {
      "text/plain": [
       "array([[1.  , 0.71, 0.  ],\n",
       "       [0.  , 1.  , 0.  ],\n",
       "       [0.  , 0.  , 1.  ]])"
      ]
     },
     "execution_count": 721,
     "metadata": {},
     "output_type": "execute_result"
    }
   ],
   "source": [
    "r = np.eye(3)\n",
    "r[0, 1] = np.sqrt(2)/2\n",
    "r"
   ]
  },
  {
   "cell_type": "code",
   "execution_count": 722,
   "id": "036bcfd3-148f-44e6-baa0-55848b0cd922",
   "metadata": {},
   "outputs": [
    {
     "data": {
      "text/plain": [
       "array([[ 1.  ,  2.71,  1.  ],\n",
       "       [ 1.  ,  0.71, -1.  ],\n",
       "       [ 1.  , -1.29,  1.  ]])"
      ]
     },
     "execution_count": 722,
     "metadata": {},
     "output_type": "execute_result"
    }
   ],
   "source": [
    "res_rm @ r "
   ]
  },
  {
   "cell_type": "code",
   "execution_count": 719,
   "id": "3403b78f-7d93-41c8-bf63-f5a60903d100",
   "metadata": {},
   "outputs": [],
   "source": [
    "np.set_printoptions(precision=2)"
   ]
  },
  {
   "cell_type": "code",
   "execution_count": 727,
   "id": "8e8d02d9-7dab-405f-b19a-2c5f19263ea8",
   "metadata": {},
   "outputs": [
    {
     "data": {
      "text/plain": [
       "array([ 3.41, -2.83,  0.59])"
      ]
     },
     "execution_count": 727,
     "metadata": {},
     "output_type": "execute_result"
    }
   ],
   "source": [
    "t = dct([0, 1, 2*np.sqrt(2)], 1, norm=\"backward\", orthogonalize=False)\n",
    "t[0] /= np.sqrt(2)\n",
    "t[2] /= np.sqrt(2)\n",
    "t"
   ]
  },
  {
   "cell_type": "code",
   "execution_count": 735,
   "id": "2bec518f-be77-4e79-b5db-e5d99c83adc0",
   "metadata": {},
   "outputs": [
    {
     "data": {
      "text/plain": [
       "array([12.07, -5.24,  2.07, -1.59])"
      ]
     },
     "execution_count": 735,
     "metadata": {},
     "output_type": "execute_result"
    }
   ],
   "source": [
    "f_ext_dct1_1d = np.concatenate((np.array([np.sqrt(2), 2, 3, 4*np.sqrt(2)]), np.array([np.sqrt(2), 2, 3, 4*np.sqrt(2)])[-2:0:-1]))\n",
    "\n",
    "t = (rfft(f_ext_dct1_1d)).real\n",
    "t[0] /= np.sqrt(2)\n",
    "t[3] /= np.sqrt(2)\n",
    "t"
   ]
  },
  {
   "cell_type": "code",
   "execution_count": 737,
   "id": "6c337861-9586-4a56-87bb-238e231d3579",
   "metadata": {},
   "outputs": [
    {
     "data": {
      "text/plain": [
       "array([1.41, 2.  , 3.  , 5.66, 3.  , 2.  ])"
      ]
     },
     "execution_count": 737,
     "metadata": {},
     "output_type": "execute_result"
    }
   ],
   "source": [
    "f_ext_dct1_1d"
   ]
  },
  {
   "cell_type": "code",
   "execution_count": 784,
   "id": "44c69b3f-d8f0-4be4-9c80-8730022acffe",
   "metadata": {},
   "outputs": [
    {
     "data": {
      "text/plain": [
       "array([[-7.69e+01+0.00e+00j,  2.70e+02-1.11e-14j, -1.28e+02-0.00e+00j, -8.69e+00-1.11e-14j, -1.15e+01+0.00e+00j],\n",
       "       [ 2.70e+02+0.00e+00j, -2.39e+02+4.00e-15j,  6.84e+01+0.00e+00j,  1.96e+00+9.65e-15j,  3.65e+00+0.00e+00j],\n",
       "       [-1.28e+02+0.00e+00j,  6.84e+01-1.33e-15j, -8.24e+00+0.00e+00j,  8.82e-01-1.33e-15j,  5.94e-01+0.00e+00j],\n",
       "       [-8.69e+00+0.00e+00j,  1.96e+00+4.00e-15j,  8.82e-01+0.00e+00j,  1.68e-01-1.66e-15j,  1.79e-01+0.00e+00j],\n",
       "       [-1.15e+01+0.00e+00j,  3.65e+00+1.33e-15j,  5.94e-01+0.00e+00j,  1.79e-01+1.33e-15j,  1.81e-01+0.00e+00j],\n",
       "       [-8.69e+00+0.00e+00j,  1.96e+00+4.00e-15j,  8.82e-01+0.00e+00j,  1.68e-01-1.66e-15j,  1.79e-01+0.00e+00j],\n",
       "       [-1.28e+02+0.00e+00j,  6.84e+01-1.33e-15j, -8.24e+00+0.00e+00j,  8.82e-01-1.33e-15j,  5.94e-01+0.00e+00j],\n",
       "       [ 2.70e+02+0.00e+00j, -2.39e+02+4.00e-15j,  6.84e+01+0.00e+00j,  1.96e+00+9.65e-15j,  3.65e+00+0.00e+00j]])"
      ]
     },
     "execution_count": 784,
     "metadata": {},
     "output_type": "execute_result"
    }
   ],
   "source": [
    "rfft2(f_grid)"
   ]
  },
  {
   "cell_type": "code",
   "execution_count": null,
   "id": "03fcbdfd-6918-47b7-bcf7-43e80b4941da",
   "metadata": {},
   "outputs": [],
   "source": []
  }
 ],
 "metadata": {
  "kernelspec": {
   "display_name": "Python 3 (ipykernel)",
   "language": "python",
   "name": "python3"
  },
  "language_info": {
   "codemirror_mode": {
    "name": "ipython",
    "version": 3
   },
   "file_extension": ".py",
   "mimetype": "text/x-python",
   "name": "python",
   "nbconvert_exporter": "python",
   "pygments_lexer": "ipython3",
   "version": "3.10.0"
  }
 },
 "nbformat": 4,
 "nbformat_minor": 5
}
