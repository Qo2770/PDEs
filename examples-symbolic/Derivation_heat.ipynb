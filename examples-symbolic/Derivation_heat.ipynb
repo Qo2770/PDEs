{
 "cells": [
  {
   "cell_type": "code",
   "execution_count": 9,
   "id": "bc75476f-b105-4bd1-bb70-643151c7b780",
   "metadata": {},
   "outputs": [],
   "source": [
    "import numpy as np\n",
    "from sympy import *"
   ]
  },
  {
   "cell_type": "markdown",
   "id": "1729b750-7e81-411a-995b-cd0a29629775",
   "metadata": {},
   "source": [
    "# Derivation"
   ]
  },
  {
   "cell_type": "code",
   "execution_count": 10,
   "id": "72a06276-eae6-48cf-86b8-7f6e4fa9e4bd",
   "metadata": {},
   "outputs": [],
   "source": [
    "x, y, r, s, t, k, u0, n, L = symbols('x y r s t k u0 n L')\n",
    "\n",
    "A = MatrixSymbol(\"A\", n, n)\n",
    "\n",
    "G = Function('G')\n",
    "f = Function('f')\n",
    "u = Function('u')(x, t)"
   ]
  },
  {
   "cell_type": "markdown",
   "id": "2768b9ba-ba32-44fc-a194-5a04f84b28fd",
   "metadata": {},
   "source": [
    "### Setup Heat Equation"
   ]
  },
  {
   "cell_type": "code",
   "execution_count": 11,
   "id": "cf457b26-1c4c-443b-a6c1-58dcb85d9a45",
   "metadata": {},
   "outputs": [
    {
     "data": {
      "text/latex": [
       "$\\displaystyle \\left( \\left( x, \\  t\\right) \\mapsto \\frac{e^{- \\frac{x^{2}}{4 k t}}}{2 \\sqrt{\\pi} \\sqrt{k t}} \\right)$"
      ],
      "text/plain": [
       "Lambda((x, t), exp(-x**2/(4*k*t))/(2*sqrt(pi)*sqrt(k*t)))"
      ]
     },
     "execution_count": 11,
     "metadata": {},
     "output_type": "execute_result"
    }
   ],
   "source": [
    "heat_kernel = Lambda((x, t), 1/ sqrt(4*pi*k*t)*exp(-x**2 / (4 * k * t)))\n",
    "heat_kernel"
   ]
  },
  {
   "cell_type": "markdown",
   "id": "0a3f96d6-0f64-4dde-b9a7-2f605478cac1",
   "metadata": {},
   "source": [
    "### Derive the u function from given Green's function"
   ]
  },
  {
   "cell_type": "code",
   "execution_count": 12,
   "id": "d8235fe2-1986-40cb-86d5-805dbc175de0",
   "metadata": {},
   "outputs": [
    {
     "data": {
      "text/latex": [
       "$\\displaystyle \\left( \\left( x, \\  t\\right) \\mapsto \\frac{e^{- \\frac{x^{2}}{4 k t}}}{2 \\sqrt{\\pi} \\sqrt{k t}} \\right)$"
      ],
      "text/plain": [
       "Lambda((x, t), exp(-x**2/(4*k*t))/(2*sqrt(pi)*sqrt(k*t)))"
      ]
     },
     "execution_count": 12,
     "metadata": {},
     "output_type": "execute_result"
    }
   ],
   "source": [
    "g_func = heat_kernel\n",
    "g_func"
   ]
  },
  {
   "cell_type": "code",
   "execution_count": 13,
   "id": "3fb8ee13-c4ff-4922-8d4b-7b2778c4953d",
   "metadata": {},
   "outputs": [
    {
     "data": {
      "text/latex": [
       "$\\displaystyle \\left( \\left( x, \\  t\\right) \\mapsto \\frac{e^{- \\frac{x^{2}}{4 k t}} \\int\\limits_{0}^{L} f{\\left(s \\right)} e^{- \\frac{s^{2}}{4 k t}} e^{\\frac{s x}{2 k t}}\\, ds}{2 \\sqrt{\\pi} \\sqrt{k t}} \\right)$"
      ],
      "text/plain": [
       "Lambda((x, t), exp(-x**2/(4*k*t))*Integral(f(s)*exp(-s**2/(4*k*t))*exp(s*x/(2*k*t)), (s, 0, L))/(2*sqrt(pi)*sqrt(k*t)))"
      ]
     },
     "execution_count": 13,
     "metadata": {},
     "output_type": "execute_result"
    }
   ],
   "source": [
    "u_cont = Lambda((x, t), integrate(g_func(x-s, t) * f(s), (s, 0, L)))\n",
    "u_cont"
   ]
  },
  {
   "cell_type": "markdown",
   "id": "8d6252d9-dc32-4a63-be12-2cfd182e98bf",
   "metadata": {},
   "source": [
    "# Function"
   ]
  },
  {
   "cell_type": "code",
   "execution_count": 14,
   "id": "4598a58c-c8e1-4a0d-ba71-5aba02251c3b",
   "metadata": {},
   "outputs": [],
   "source": [
    "def derive_u(init_func, L_1=1, k_1=1, t_1=1):\n",
    "    return u_cont(x, t_1).subs(k, k_1).subs(L, L_1).subs(f(s), init_func).doit()"
   ]
  },
  {
   "cell_type": "code",
   "execution_count": 15,
   "id": "2e416d9e-a27c-4ddd-9057-e46d98ffad13",
   "metadata": {},
   "outputs": [
    {
     "data": {
      "text/latex": [
       "$\\displaystyle \\frac{u_{0} e^{- \\frac{x^{2}}{4}} \\int\\limits_{0}^{1} e^{- \\frac{s^{2}}{4}} e^{\\frac{s x}{2}}\\, ds}{2 \\sqrt{\\pi}}$"
      ],
      "text/plain": [
       "u0*exp(-x**2/4)*Integral(exp(-s**2/4)*exp(s*x/2), (s, 0, 1))/(2*sqrt(pi))"
      ]
     },
     "execution_count": 15,
     "metadata": {},
     "output_type": "execute_result"
    }
   ],
   "source": [
    "# Initial function (const)\n",
    "f_init = u0\n",
    "\n",
    "u_base = derive_u(f_init)\n",
    "u_base"
   ]
  },
  {
   "cell_type": "markdown",
   "id": "eaae7aa7-ff21-432d-945d-83f983abaefd",
   "metadata": {},
   "source": [
    "# Mathematica Integration"
   ]
  },
  {
   "cell_type": "code",
   "execution_count": 8,
   "id": "42044e0c-2cb5-4278-be1d-68a6bc9316b0",
   "metadata": {},
   "outputs": [],
   "source": [
    "from wolframclient.evaluation import WolframLanguageSession\n",
    "from wolframclient.language import wl, wlexpr\n",
    "\n",
    "from sympy.parsing.mathematica import parse_mathematica\n",
    "\n",
    "session = None"
   ]
  },
  {
   "cell_type": "code",
   "execution_count": 9,
   "id": "6bc7985c-bdf1-45eb-9872-01e343afef9f",
   "metadata": {},
   "outputs": [],
   "source": [
    "def init_session(kernel_path=\"/Applications/Wolfram Engine.app/Contents/Resources/Wolfram Player.app/Contents/MacOS/WolframKernel\"):\n",
    "    return WolframLanguageSession(kernel_path)\n",
    "\n",
    "def eval_func(func, x_0, session):\n",
    "    res = session.evaluate(wlexpr(\"N[ReleaseHold[\" + mathematica_code(u_base.subs(x, x_0)) + \"]]\"))\n",
    "    return parse_mathematica(str(res).replace(\"Global\", \"\"))"
   ]
  },
  {
   "cell_type": "code",
   "execution_count": 10,
   "id": "39b612a6-06e6-41f9-8d35-137f549c83de",
   "metadata": {},
   "outputs": [],
   "source": [
    "if session is None:\n",
    "    session = init_session()"
   ]
  },
  {
   "cell_type": "code",
   "execution_count": 11,
   "id": "c8df88bc-85e3-4bf1-ae2b-ae69c5286853",
   "metadata": {},
   "outputs": [
    {
     "data": {
      "text/latex": [
       "$\\displaystyle 0.26024993890652326 u_{0}$"
      ],
      "text/plain": [
       "0.26024993890652326*u0"
      ]
     },
     "execution_count": 11,
     "metadata": {},
     "output_type": "execute_result"
    }
   ],
   "source": [
    "res = eval_func(u_base, 1, session)\n",
    "res"
   ]
  },
  {
   "cell_type": "code",
   "execution_count": 12,
   "id": "7b08793d-7267-4f33-963e-40791e40c846",
   "metadata": {},
   "outputs": [
    {
     "data": {
      "text/latex": [
       "$\\displaystyle 2.6024993890652326$"
      ],
      "text/plain": [
       "2.6024993890652326"
      ]
     },
     "execution_count": 12,
     "metadata": {},
     "output_type": "execute_result"
    }
   ],
   "source": [
    "res.subs(u0, 10)"
   ]
  },
  {
   "cell_type": "code",
   "execution_count": null,
   "id": "8fc8a384-4bf6-41ec-a02b-a33de5d15769",
   "metadata": {},
   "outputs": [],
   "source": []
  },
  {
   "cell_type": "code",
   "execution_count": null,
   "id": "1d4aed93-8892-4159-8e8a-46ef514c049a",
   "metadata": {},
   "outputs": [],
   "source": []
  }
 ],
 "metadata": {
  "kernelspec": {
   "display_name": "Python 3 (ipykernel)",
   "language": "python",
   "name": "python3"
  },
  "language_info": {
   "codemirror_mode": {
    "name": "ipython",
    "version": 3
   },
   "file_extension": ".py",
   "mimetype": "text/x-python",
   "name": "python",
   "nbconvert_exporter": "python",
   "pygments_lexer": "ipython3",
   "version": "3.10.0"
  }
 },
 "nbformat": 4,
 "nbformat_minor": 5
}
